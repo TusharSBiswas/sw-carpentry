{
 "cells": [
  {
   "cell_type": "code",
   "execution_count": 21,
   "metadata": {
    "collapsed": false
   },
   "outputs": [
    {
     "name": "stdout",
     "output_type": "stream",
     "text": [
      "['Rat\\n', 'Ox\\n', 'Tiger\\n', 'Rabbit\\n', 'Dragon\\n', 'Snake\\n', 'Horse\\n', 'Goat\\n', 'Monkey\\n', 'Rooster\\n', 'Dog\\n', 'Pig\\n']\n",
      "What year were you born? hello\n",
      "You did not provide a year in the form of an integer.\n",
      "Your Chinese Zodiac Animal is a  Ox\n",
      "\n",
      "Ox\n",
      "\n"
     ]
    }
   ],
   "source": [
    "# Here we are going to plan the program\n",
    "\n",
    "# Open the zodiac descriptions\n",
    "ZodiacText = open('zodiacDescriptions.txt','r')\n",
    "#for thing in ZodiacText:\n",
    " #   print(thing)\n",
    "\n",
    "\n",
    "# Read the file. We are going to make a list with each line of the file\n",
    "# as a list item.\n",
    "ZodiacList = []\n",
    "for animal in ZodiacText:\n",
    "    if animal != '\\n':\n",
    "        ZodiacList.append(animal)\n",
    "    \n",
    "print(ZodiacList)\n",
    "\n",
    "# Ask the user for input\n",
    "# We're just going to assign a variable for moment. Come back later.\n",
    "try:\n",
    "    birthYear = int(input(\"What year were you born? \"))\n",
    "\n",
    "    \n",
    "except ValueError:\n",
    "    print(\"You did not provide a year in the form of an integer.\")\n",
    "    \n",
    "    \n",
    "    \n",
    "\n",
    "\n",
    "#birthYear = int(birthYear)\n",
    "#birthYear = 1985\n",
    "# Do some fancy figuring stuff out (little bit of math)\n",
    "#John lied to us and gave us the wrong list\n",
    "# To fix this we need to offset birthYear by 4\n",
    "zodiacIndex = (birthYear-4) % 12\n",
    "# print(zodiacIndex)\n",
    "\n",
    "# Tell user the result\n",
    "print(\"Your Chinese Zodiac Animal is a \", ZodiacList[zodiacIndex])\n",
    "# Repeat\n",
    "print (ZodiacList[1])\n",
    "# Close the file\n",
    "ZodiacText.close()"
   ]
  },
  {
   "cell_type": "code",
   "execution_count": 27,
   "metadata": {
    "collapsed": false
   },
   "outputs": [
    {
     "name": "stdout",
     "output_type": "stream",
     "text": [
      "['Rat\\n', 'Ox\\n', 'Tiger\\n', 'Rabbit\\n', 'Dragon\\n', 'Snake\\n', 'Horse\\n', 'Goat\\n', 'Monkey\\n', 'Rooster\\n', 'Dog\\n', 'Pig\\n']\n",
      "What year were you born? 1985\n",
      "Your Chinese Zodiac Animal is a  Ox\n",
      "\n"
     ]
    }
   ],
   "source": [
    "# Here we are going to plan the program\n",
    "\n",
    "# Open the zodiac descriptions\n",
    "ZodiacText = open('zodiacDescriptions.txt','r')\n",
    "#for thing in ZodiacText:\n",
    " #   print(thing)\n",
    "\n",
    "\n",
    "# Read the file. We are going to make a list with each line of the file\n",
    "# as a list item.\n",
    "ZodiacList = []\n",
    "for animal in ZodiacText:\n",
    "    if animal != '\\n':\n",
    "        ZodiacList.append(animal)\n",
    "    \n",
    "print(ZodiacList)\n",
    "\n",
    "# Ask the user for input\n",
    "# We're just going to assign a variable for moment. Come back later.\n",
    "try:\n",
    "    birthYear = int(input(\"What year were you born? \"))\n",
    "    zodiacIndex = (birthYear-4) % 12\n",
    "    print(\"Your Chinese Zodiac Animal is a \", ZodiacList[zodiacIndex])\n",
    "\n",
    "except ValueError:\n",
    "    print(\"You did not provide a year in the form of an integer.\")\n",
    "    \n",
    "    \n",
    "    \n",
    "\n",
    "\n",
    "#birthYear = int(birthYear)\n",
    "#birthYear = 1985\n",
    "# Do some fancy figuring stuff out (little bit of math)\n",
    "#John lied to us and gave us the wrong list\n",
    "# To fix this we need to offset birthYear by 4\n",
    "\n",
    "# print(zodiacIndex)\n",
    "\n",
    "# Tell user the result\n",
    "# Repeat\n",
    "# print (ZodiacList[1])\n",
    "# Close the file\n",
    "ZodiacText.close()"
   ]
  },
  {
   "cell_type": "code",
   "execution_count": 1,
   "metadata": {
    "collapsed": false
   },
   "outputs": [
    {
     "name": "stdout",
     "output_type": "stream",
     "text": [
      "['Rat\\n', 'Ox\\n', 'Tiger\\n', 'Rabbit\\n', 'Dragon\\n', 'Snake\\n', 'Horse\\n', 'Goat\\n', 'Monkey\\n', 'Rooster\\n', 'Dog\\n', 'Pig\\n']\n",
      "What year were you born? 1985\n",
      "Your Chinese Zodiac Animal is a  Ox\n",
      "\n"
     ]
    }
   ],
   "source": [
    "# There should be description here\n",
    "\n",
    "# Open the zodiac descriptions\n",
    "ZodiacText = open('zodiacDescriptions.txt','r')\n",
    "#for thing in ZodiacText:\n",
    " #   print(thing)\n",
    "\n",
    "\n",
    "# Read the file. We are going to make a list with each line of the file\n",
    "# as a list item.\n",
    "ZodiacList = []\n",
    "for animal in ZodiacText:\n",
    "    if animal != '\\n':\n",
    "        ZodiacList.append(animal)\n",
    "\n",
    "# Close the file as soon as we are done with it\n",
    "# \n",
    "ZodiacText.close()    \n",
    "print(ZodiacList)\n",
    "\n",
    "# Ask the user for input\n",
    "# We're just going to assign a variable for moment. Come back later.\n",
    "try:\n",
    "    birthYear = int(input(\"What year were you born? \"))\n",
    "    # Do some fancy figuring stuff out (little bit of math)\n",
    "    # John lied to us and gave us the wrong list\n",
    "    # To fix this we need to offset birthYear by 4\n",
    "    zodiacIndex = (birthYear-4) % 12\n",
    "    # Tell user the result\n",
    "    print(\"Your Chinese Zodiac Animal is a \", ZodiacList[zodiacIndex])\n",
    "\n",
    "except ValueError:\n",
    "    print(\"You did not provide a year in the form of an integer.\")\n",
    "    \n",
    "    \n",
    "    \n",
    "# Repeat\n",
    "\n"
   ]
  },
  {
   "cell_type": "code",
   "execution_count": null,
   "metadata": {
    "collapsed": true
   },
   "outputs": [],
   "source": []
  },
  {
   "cell_type": "code",
   "execution_count": null,
   "metadata": {
    "collapsed": true
   },
   "outputs": [],
   "source": []
  }
 ],
 "metadata": {
  "kernelspec": {
   "display_name": "Python 3",
   "language": "python",
   "name": "python3"
  },
  "language_info": {
   "codemirror_mode": {
    "name": "ipython",
    "version": 3
   },
   "file_extension": ".py",
   "mimetype": "text/x-python",
   "name": "python",
   "nbconvert_exporter": "python",
   "pygments_lexer": "ipython3",
   "version": "3.4.3"
  }
 },
 "nbformat": 4,
 "nbformat_minor": 0
}
